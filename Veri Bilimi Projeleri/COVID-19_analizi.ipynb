{
 "cells": [
  {
   "cell_type": "markdown",
   "id": "fecef97b-d08f-4d55-ab26-3bdbd8ad7e6b",
   "metadata": {},
   "source": [
    "## **COVID-19 Literatüründe Aşı ve Tedavi Yöntemlerinin Metin Madenciliği ile Analizi**"
   ]
  },
  {
   "cell_type": "markdown",
   "id": "a522fc11-c46e-4aac-9e21-243408b097e4",
   "metadata": {},
   "source": [
    "**Problem tanımı ve amaç:** Veri seti Beyaz Saray ve önde gelen araştırma grupları tarafından oluşturulan Covid-19 açık kaynak veri setidir. CORD-19 veri seti, mevcut olan en kapsamlı koronavirüs literatür koleksiyonunu temsil ediyor. Koronavirüs literatüründeki hızlı değişimlere bilim insanlarının ayak uydurmaları zorluklara neden olmaktadır. Bu nedenle tıp camiasının yüksek öncelikli bilimsel sorulara yanıtlar geliştirmesine yardımcı olabilecek metin ve veri madenciliği araçları geliştirmesi amaçlanmaktadır."
   ]
  },
  {
   "cell_type": "code",
   "execution_count": 1,
   "id": "67bcb658-7036-4eee-9e5d-9d7088e10aaa",
   "metadata": {},
   "outputs": [
    {
     "name": "stderr",
     "output_type": "stream",
     "text": [
      "[nltk_data] Downloading package stopwords to\n",
      "[nltk_data]     C:\\Users\\Admin\\AppData\\Roaming\\nltk_data...\n",
      "[nltk_data]   Package stopwords is already up-to-date!\n"
     ]
    },
    {
     "data": {
      "text/plain": [
       "True"
      ]
     },
     "execution_count": 1,
     "metadata": {},
     "output_type": "execute_result"
    }
   ],
   "source": [
    "# Veri işleme kütüphaneleri\n",
    "import pandas as pd              # Veri yapıları ve veri analizi\n",
    "import numpy as np               # Sayısal işlemler için\n",
    "\n",
    "# Grafik ve görselleştirme kütüphaneleri\n",
    "import matplotlib.pyplot as plt  # Grafik çizimi\n",
    "import seaborn as sns            # İstatistiksel grafikler\n",
    "\n",
    "# Doğal Dil İşleme (NLP) kütüphaneleri\n",
    "import nltk                      # NLP araçları\n",
    "from nltk.corpus import stopwords  # Sık kullanılan kelimeler (stopwords)\n",
    "\n",
    "# Metin vektörleştirme ve konu modelleme\n",
    "from sklearn.feature_extraction.text import TfidfVectorizer  # TF-IDF hesaplama\n",
    "from sklearn.decomposition import LatentDirichletAllocation   # LDA konu modeli\n",
    "\n",
    "# Benzerlik ölçümü\n",
    "from sklearn.metrics.pairwise import cosine_similarity        # Metin benzerliği ölçümü\n",
    "\n",
    "# WordCloud oluşturma\n",
    "from wordcloud import WordCloud                                # Kelime bulutu görselleştirme\n",
    "\n",
    "# Uyarıları kapatma (temiz çıktı için)\n",
    "import warnings\n",
    "warnings.filterwarnings('ignore')\n",
    "\n",
    "# Gerekli NLTK verisini indir\n",
    "nltk.download('stopwords')\n"
   ]
  },
  {
   "cell_type": "code",
   "execution_count": 2,
   "id": "da02e294-47e1-42c2-934a-c4801c6a5cda",
   "metadata": {},
   "outputs": [
    {
     "data": {
      "text/html": [
       "<div>\n",
       "<style scoped>\n",
       "    .dataframe tbody tr th:only-of-type {\n",
       "        vertical-align: middle;\n",
       "    }\n",
       "\n",
       "    .dataframe tbody tr th {\n",
       "        vertical-align: top;\n",
       "    }\n",
       "\n",
       "    .dataframe thead th {\n",
       "        text-align: right;\n",
       "    }\n",
       "</style>\n",
       "<table border=\"1\" class=\"dataframe\">\n",
       "  <thead>\n",
       "    <tr style=\"text-align: right;\">\n",
       "      <th></th>\n",
       "      <th>title</th>\n",
       "      <th>abstract</th>\n",
       "      <th>text</th>\n",
       "    </tr>\n",
       "  </thead>\n",
       "  <tbody>\n",
       "    <tr>\n",
       "      <th>0</th>\n",
       "      <td>Clinical features of culture-proven Mycoplasma...</td>\n",
       "      <td>OBJECTIVE: This retrospective chart review des...</td>\n",
       "      <td>Clinical features of culture-proven Mycoplasma...</td>\n",
       "    </tr>\n",
       "    <tr>\n",
       "      <th>1</th>\n",
       "      <td>Nitric oxide: a pro-inflammatory mediator in l...</td>\n",
       "      <td>Inflammatory diseases of the respiratory tract...</td>\n",
       "      <td>Nitric oxide: a pro-inflammatory mediator in l...</td>\n",
       "    </tr>\n",
       "    <tr>\n",
       "      <th>2</th>\n",
       "      <td>Surfactant protein-D and pulmonary host defense</td>\n",
       "      <td>Surfactant protein-D (SP-D) participates in th...</td>\n",
       "      <td>Surfactant protein-D and pulmonary host defens...</td>\n",
       "    </tr>\n",
       "    <tr>\n",
       "      <th>3</th>\n",
       "      <td>Role of endothelin-1 in lung disease</td>\n",
       "      <td>Endothelin-1 (ET-1) is a 21 amino acid peptide...</td>\n",
       "      <td>Role of endothelin-1 in lung disease Endotheli...</td>\n",
       "    </tr>\n",
       "    <tr>\n",
       "      <th>4</th>\n",
       "      <td>Gene expression in epithelial cells in respons...</td>\n",
       "      <td>Respiratory syncytial virus (RSV) and pneumoni...</td>\n",
       "      <td>Gene expression in epithelial cells in respons...</td>\n",
       "    </tr>\n",
       "  </tbody>\n",
       "</table>\n",
       "</div>"
      ],
      "text/plain": [
       "                                               title  \\\n",
       "0  Clinical features of culture-proven Mycoplasma...   \n",
       "1  Nitric oxide: a pro-inflammatory mediator in l...   \n",
       "2    Surfactant protein-D and pulmonary host defense   \n",
       "3               Role of endothelin-1 in lung disease   \n",
       "4  Gene expression in epithelial cells in respons...   \n",
       "\n",
       "                                            abstract  \\\n",
       "0  OBJECTIVE: This retrospective chart review des...   \n",
       "1  Inflammatory diseases of the respiratory tract...   \n",
       "2  Surfactant protein-D (SP-D) participates in th...   \n",
       "3  Endothelin-1 (ET-1) is a 21 amino acid peptide...   \n",
       "4  Respiratory syncytial virus (RSV) and pneumoni...   \n",
       "\n",
       "                                                text  \n",
       "0  Clinical features of culture-proven Mycoplasma...  \n",
       "1  Nitric oxide: a pro-inflammatory mediator in l...  \n",
       "2  Surfactant protein-D and pulmonary host defens...  \n",
       "3  Role of endothelin-1 in lung disease Endotheli...  \n",
       "4  Gene expression in epithelial cells in respons...  "
      ]
     },
     "execution_count": 2,
     "metadata": {},
     "output_type": "execute_result"
    }
   ],
   "source": [
    "# Veri setini yükleyelim\n",
    "\n",
    "# metadata.csv dosyasını oku\n",
    "df = pd.read_csv('metadata.csv')\n",
    "\n",
    "# Sadece 'title' ve 'abstract' sütunlarını seç, eksik değerleri çıkar\n",
    "df = df[['title', 'abstract']].dropna()\n",
    "\n",
    "# Çok kısa özetleri filtrele (50 karakterden kısa olanları çıkar)\n",
    "df = df[df['abstract'].apply(len) > 50]\n",
    "\n",
    "# 'title' ve 'abstract' sütunlarını birleştirerek yeni 'text' sütunu oluştur\n",
    "df['text'] = df['title'] + \" \" + df['abstract']\n",
    "\n",
    "# DataFrame indekslerini sıfırla, eski indeksleri kaldır\n",
    "df.reset_index(drop=True, inplace=True)\n",
    "\n",
    "# İlk 5 satırı göster\n",
    "df.head()\n"
   ]
  },
  {
   "cell_type": "code",
   "execution_count": 3,
   "id": "9384c5b6-8669-4d50-95fa-86685000e9ab",
   "metadata": {},
   "outputs": [
    {
     "data": {
      "text/plain": [
       "0    clinical features mycoplasma pneumoniae infect...\n",
       "1    nitric mediator lung inflammatory diseases res...\n",
       "2    surfactant pulmonary host defense surfactant p...\n",
       "3    role lung disease amino acid peptide diverse b...\n",
       "4    gene expression epithelial cells response pneu...\n",
       "Name: cleaned_text, dtype: object"
      ]
     },
     "execution_count": 3,
     "metadata": {},
     "output_type": "execute_result"
    }
   ],
   "source": [
    "# Metnin temizlenmesi ve ön işleme adımlarının tanımlanması\n",
    "\n",
    "# İngilizce stopword (önemsiz kelimeler) listesini set olarak alıyoruz (hız için)\n",
    "stop_words = set(stopwords.words('english'))\n",
    "\n",
    "# Metin temizleme fonksiyonu\n",
    "def clean_text(text):\n",
    "    # Tüm metni küçük harfe çevir\n",
    "    text = text.lower()\n",
    "    # Kelimeleri boşluklara göre ayır, sadece alfabetik olanları ve stopword olmayanları al\n",
    "    tokens = [word for word in text.split() if word.isalpha() and word not in stop_words]\n",
    "    # Temizlenmiş kelimeleri tekrar tek string olarak birleştir\n",
    "    return ' '.join(tokens)\n",
    "\n",
    "# Orijinal 'text' sütununu temizleyip yeni 'cleaned_text' sütununa kaydet\n",
    "df['cleaned_text'] = df['text'].apply(clean_text)\n",
    "\n",
    "# Temizlenmiş metinlerden ilk 5 tanesini göster\n",
    "df['cleaned_text'].head()\n"
   ]
  },
  {
   "cell_type": "code",
   "execution_count": 4,
   "id": "8f350185-9018-4cbc-91c0-e64b4468d90b",
   "metadata": {},
   "outputs": [
    {
     "name": "stdout",
     "output_type": "stream",
     "text": [
      "En yüksek TF-IDF skorlu 10 kelime:\n",
      "influenza: 0.0342\n",
      "virus: 0.0270\n",
      "patients: 0.0198\n",
      "human: 0.0196\n",
      "cells: 0.0195\n",
      "viral: 0.0191\n",
      "infection: 0.0187\n",
      "pandemic: 0.0168\n",
      "disease: 0.0164\n",
      "protein: 0.0164\n"
     ]
    }
   ],
   "source": [
    "# Önemli anahtar kelimelerin belirlenmesi\n",
    "\n",
    "from sklearn.feature_extraction.text import TfidfVectorizer\n",
    "import numpy as np\n",
    "\n",
    "# TF-IDF vektörleştiricisini oluştur (en fazla 5000 kelime, İngilizce stopword'ler hariç)\n",
    "tfidf = TfidfVectorizer(max_features=5000, stop_words='english')\n",
    "\n",
    "# İlk 1000 temizlenmiş metni TF-IDF matrisine dönüştür\n",
    "X = tfidf.fit_transform(df['cleaned_text'][:1000])\n",
    "\n",
    "# TF-IDF vektörleştiricisindeki kelimeleri al (yeni sklearn metoduyla)\n",
    "feature_names = tfidf.get_feature_names_out()\n",
    "\n",
    "# Her kelimenin tüm dokümanlar için ortalama TF-IDF skorunu hesapla\n",
    "mean_scores = np.asarray(X.mean(axis=0)).ravel()\n",
    "\n",
    "# En yüksek ortalama skora sahip ilk 10 kelimenin indekslerini al\n",
    "top_n_idx = mean_scores.argsort()[-10:][::-1]\n",
    "\n",
    "# Bu indekslere karşılık gelen kelimeler ve skorları bir listeye aktar\n",
    "top_features = [(feature_names[i], mean_scores[i]) for i in top_n_idx]\n",
    "\n",
    "print(\"En yüksek TF-IDF skorlu 10 kelime:\")\n",
    "for word, score in top_features:\n",
    "    print(f\"{word}: {score:.4f}\")\n"
   ]
  },
  {
   "cell_type": "code",
   "execution_count": 5,
   "id": "001cdea6-6632-43e4-9115-b9dd12f1d10d",
   "metadata": {},
   "outputs": [
    {
     "data": {
      "image/png": "[encoded data removed]",
      "text/plain": [
       "<Figure size 1400x700 with 1 Axes>"
      ]
     },
     "metadata": {},
     "output_type": "display_data"
    }
   ],
   "source": [
    "# En çok tekrarlanan 10 kelimenin görselleştirilmesi\n",
    "\n",
    "from collections import Counter\n",
    "\n",
    "# İlk 1000 temizlenmiş metni birleştirip tek uzun metin haline getir, sonra kelimelere ayır\n",
    "words = ' '.join(df['cleaned_text'][:1000]).split()\n",
    "\n",
    "# Kelimelerin frekansını saymak için Counter kullan\n",
    "word_freq = Counter(words)\n",
    "\n",
    "# En sık geçen ilk 10 kelimeyi ve sayılarını al\n",
    "most_common = word_freq.most_common(10)\n",
    "\n",
    "# Kelime ve frekanslarını ayrı listelere ayır\n",
    "labels, values = zip(*most_common)\n",
    "\n",
    "# Grafik boyutunu ayarla\n",
    "plt.figure(figsize=(14, 7))\n",
    "\n",
    "# Seaborn ile barplot çiz (kelimeler x ekseninde, frekanslar y ekseninde)\n",
    "sns.barplot(x=list(labels), y=list(values))\n",
    "\n",
    "# X eksenindeki kelimeleri 45 derece döndür ki okunaklı olsun\n",
    "plt.xticks(rotation=45)\n",
    "\n",
    "# Grafik başlığı ekle\n",
    "plt.title('En Çok Tekrarlanan 10 Kelime', fontsize=16)\n",
    "\n",
    "# Grafiği göster\n",
    "plt.show()\n"
   ]
  },
  {
   "cell_type": "code",
   "execution_count": 6,
   "id": "5b673097-b3fc-4876-b654-baa8ff2206a7",
   "metadata": {},
   "outputs": [
    {
     "name": "stdout",
     "output_type": "stream",
     "text": [
      "Topic 1:\n",
      "['redox', 'veillonella', 'microglia', 'claudins', 'macrophage', 'autophagy', 'gsh', 'outdoor', 'glycosites', 'polarity']\n",
      "\n",
      "Topic 2:\n",
      "['protein', 'virus', 'viral', 'rna', 'cells', 'human', 'gene', 'cell', 'expression', 'proteins']\n",
      "\n",
      "Topic 3:\n",
      "['patients', 'respiratory', 'influenza', 'clinical', 'acute', 'lung', 'infection', 'associated', 'pandemic', 'disease']\n",
      "\n",
      "Topic 4:\n",
      "['reovirus', 'enterovirus', 'poliovirus', 'plastid', 'uba', 'iggs', 'ires', 'safv', 'mscl', 'minibody']\n",
      "\n",
      "Topic 5:\n",
      "['influenza', 'pandemic', 'health', 'virus', 'avian', 'public', 'transmission', 'disease', 'human', 'infection']\n",
      "\n"
     ]
    }
   ],
   "source": [
    "# Öne çıkan kavramların belirlenmesi\n",
    "\n",
    "from sklearn.decomposition import LatentDirichletAllocation\n",
    "\n",
    "# LDA modeli oluştur (5 konu, tekrarlanabilir sonuç için sabit random_state)\n",
    "lda = LatentDirichletAllocation(n_components=5, random_state=0)\n",
    "\n",
    "# Daha önce oluşturduğumuz TF-IDF matrisini kullanarak modeli eğit\n",
    "lda.fit(X)\n",
    "\n",
    "# Her bir konu için en baskın 10 kelimeyi yazdır\n",
    "for idx, topic in enumerate(lda.components_):\n",
    "    print(f'Topic {idx + 1}:')\n",
    "    # topic.argsort() ile kelimelerin ağırlıklarını sıralar, sondan 10 tanesi en yüksek ağırlıklar\n",
    "    top_words = [feature_names[i] for i in topic.argsort()[-10:]]\n",
    "    print(top_words[::-1])  # Tercihen yüksekten düşüğe sırala\n",
    "    print()\n"
   ]
  },
  {
   "cell_type": "code",
   "execution_count": 7,
   "id": "17be5926-4252-437d-b02c-20edaee45f79",
   "metadata": {},
   "outputs": [
    {
     "data": {
      "text/html": [
       "<div>\n",
       "<style scoped>\n",
       "    .dataframe tbody tr th:only-of-type {\n",
       "        vertical-align: middle;\n",
       "    }\n",
       "\n",
       "    .dataframe tbody tr th {\n",
       "        vertical-align: top;\n",
       "    }\n",
       "\n",
       "    .dataframe thead th {\n",
       "        text-align: right;\n",
       "    }\n",
       "</style>\n",
       "<table border=\"1\" class=\"dataframe\">\n",
       "  <thead>\n",
       "    <tr style=\"text-align: right;\">\n",
       "      <th></th>\n",
       "      <th>title</th>\n",
       "      <th>abstract</th>\n",
       "    </tr>\n",
       "  </thead>\n",
       "  <tbody>\n",
       "    <tr>\n",
       "      <th>98</th>\n",
       "      <td>DNA Vaccines against Protozoan Parasites: Adva...</td>\n",
       "      <td>Over the past 15 years, DNA vaccines have gone...</td>\n",
       "    </tr>\n",
       "    <tr>\n",
       "      <th>353</th>\n",
       "      <td>Confronting Potential Influenza A (H5N1) Pande...</td>\n",
       "      <td>Influenza A (H5N1) viruses are strong candidat...</td>\n",
       "    </tr>\n",
       "    <tr>\n",
       "      <th>215</th>\n",
       "      <td>Multivalent HA DNA Vaccination Protects agains...</td>\n",
       "      <td>BACKGROUND: Sustained outbreaks of highly path...</td>\n",
       "    </tr>\n",
       "    <tr>\n",
       "      <th>350</th>\n",
       "      <td>DNA Vaccines: Developing New Strategies agains...</td>\n",
       "      <td>Due to their rapid and widespread development,...</td>\n",
       "    </tr>\n",
       "    <tr>\n",
       "      <th>970</th>\n",
       "      <td>Adjuvant Activity of Sargassum pallidum Polysa...</td>\n",
       "      <td>This study evaluates the effects of Sargassum ...</td>\n",
       "    </tr>\n",
       "  </tbody>\n",
       "</table>\n",
       "</div>"
      ],
      "text/plain": [
       "                                                 title  \\\n",
       "98   DNA Vaccines against Protozoan Parasites: Adva...   \n",
       "353  Confronting Potential Influenza A (H5N1) Pande...   \n",
       "215  Multivalent HA DNA Vaccination Protects agains...   \n",
       "350  DNA Vaccines: Developing New Strategies agains...   \n",
       "970  Adjuvant Activity of Sargassum pallidum Polysa...   \n",
       "\n",
       "                                              abstract  \n",
       "98   Over the past 15 years, DNA vaccines have gone...  \n",
       "353  Influenza A (H5N1) viruses are strong candidat...  \n",
       "215  BACKGROUND: Sustained outbreaks of highly path...  \n",
       "350  Due to their rapid and widespread development,...  \n",
       "970  This study evaluates the effects of Sargassum ...  "
      ]
     },
     "execution_count": 7,
     "metadata": {},
     "output_type": "execute_result"
    }
   ],
   "source": [
    "# Sorulan sorulara yanıt arama\n",
    "\n",
    "# sorumuz\n",
    "question = 'what are the effects of vaccines on covid-19 transmission'\n",
    "\n",
    "# Soruyu TF-IDF vektörüne dönüştür\n",
    "question_vec = tfidf.transform([question])\n",
    "\n",
    "# İlk 1000 dokümanla benzerlik hesapla\n",
    "similarities = cosine_similarity(question_vec, X[:1000]).flatten()\n",
    "\n",
    "# En benzer 5 dokümanın indekslerini al\n",
    "top_doc_indices = similarities.argsort()[-5:][::-1]\n",
    "\n",
    "# En benzer makalelerin başlık ve özetlerini göster\n",
    "df.iloc[top_doc_indices][['title', 'abstract']]\n"
   ]
  },
  {
   "cell_type": "markdown",
   "id": "a15cbba7-4e10-41d5-ab75-e1eeabbfd185",
   "metadata": {},
   "source": [
    "**SONUÇ VE YORUMLAR**\n",
    "\n",
    "**Veri Seti Genel Görünüm:**\n",
    "\n",
    "CORD-19 veri setinden başlık ve özet bilgileri alınarak toplamda anlamlı metin içeren binlerce makale işlendi.\n",
    "\n",
    "Çok kısa veya eksik içerik taşıyan kayıtlar analiz dışında bırakıldı.\n",
    "\n",
    "**Temizlenmiş Metinler Üzerinden Anahtar Kelime Analizi:**\n",
    "\n",
    "TF-IDF yöntemiyle yapılan analizde, “influenza”, “virus”, “patients”, “infection”, “protein” gibi kelimeler öne çıktı.\n",
    "\n",
    "Bu kelimeler COVID-19 ile ilgili çalışmaların yoğunlukla enfeksiyon süreci, protein yapıları, insan hücreleri ve viral etkenler üzerinde yoğunlaştığını göstermektedir.\n",
    "\n",
    "**Kelime Frekansı Görselleştirmesi:**\n",
    "\n",
    "En sık geçen kelimeler arasında “virus”, “infection”, “patients”, “human” gibi COVID-19’un biyomedikal boyutuyla ilgili kelimeler yer aldı.\n",
    "\n",
    "Bu durum, veri setinin büyük ölçüde tıbbi ve bilimsel içerikli yayınlardan oluştuğunu desteklemektedir.\n",
    "\n",
    "**Konu Modelleme (LDA) Sonuçları:**\n",
    "\n",
    "LDA ile elde edilen konular, makalelerin aşağıdaki başlıklarda yoğunlaştığını göstermiştir:\n",
    "\n",
    "Konu 2: Genetik, protein yapıları, viral RNA ve hücresel tepkiler\n",
    "\n",
    "Konu 3: Klinik vakalar, enfeksiyonlar ve pandemik durumlar\n",
    "\n",
    "Konu 5: Halk sağlığı, bulaşma, aşılar ve insan etkileşimi\n",
    "\n",
    "Bu da literatürde hem moleküler düzeyde hem de halk sağlığı düzeyinde araştırmaların yoğun olduğunu gösteriyor.\n",
    "\n",
    "**Soruya Cevap Arama (Soru-Cevap Benzerlik Analizi):**\n",
    "\n",
    "“What are the effects of vaccines on covid-19 transmission?” sorusuna benzer içerikler arandığında, sonuçlarda DNA aşıları, H5N1 (kuş gribi) pandemisi, bağışıklık artırıcı maddeler gibi konular öne çıkmıştır.\n",
    "\n",
    "Bu sonuç, veri setinde doğrudan COVID-19 aşılarıyla ilgili çalışma az olmasına rağmen, benzer viral hastalıklar ve aşı uygulamaları hakkında zengin içerik bulunduğunu gösteriyor.\n",
    "\n",
    "**Genel Değerlendirme:**\n",
    "\n",
    "CORD-19 veri seti; COVID-19, influenza ve diğer solunum yolu virüsleri hakkında geniş kapsamlı bir literatür kaynağı sunmaktadır.\n",
    "\n",
    "TF-IDF ve LDA gibi temel NLP teknikleriyle literatürün genel yapısı, önemli temaları ve kavramları başarılı şekilde öne çıkarılabilmektedir.\n",
    "\n",
    "Ayrıca kullanıcı sorularına yönelik benzer içeriklerin tespiti, bilgiye hızlı ve etkili erişimi mümkün kılmaktadır."
   ]
  }
 ],
 "metadata": {
  "kernelspec": {
   "display_name": "Python 3 (ipykernel)",
   "language": "python",
   "name": "python3"
  },
  "language_info": {
   "codemirror_mode": {
    "name": "ipython",
    "version": 3
   },
   "file_extension": ".py",
   "mimetype": "text/x-python",
   "name": "python",
   "nbconvert_exporter": "python",
   "pygments_lexer": "ipython3",
   "version": "3.12.7"
  }
 },
 "nbformat": 4,
 "nbformat_minor": 5
}
