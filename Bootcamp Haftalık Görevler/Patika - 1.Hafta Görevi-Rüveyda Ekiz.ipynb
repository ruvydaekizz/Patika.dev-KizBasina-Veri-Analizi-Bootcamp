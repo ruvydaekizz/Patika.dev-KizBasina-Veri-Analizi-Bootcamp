{
 "cells": [
  {
   "cell_type": "markdown",
   "id": "84b022f1",
   "metadata": {},
   "source": [
    "# 1.Hafta Görevi\n",
    "\n",
    "- ilk değerler kullanıcıdan alınacak"
   ]
  },
  {
   "cell_type": "code",
   "execution_count": null,
   "id": "c1801089",
   "metadata": {},
   "outputs": [],
   "source": [
    "# girilen sayının pozitif, negatif veya sıfır olduğunu yazan koşul\n",
    "\n",
    "sayi = int(input(\"Sayi giriniz: \"))\n",
    "\n",
    "if sayi < 0:\n",
    "    print(f\"Sayınız {sayi} :  Sayı negatiftir.!!\")\n",
    "elif sayi > 0:\n",
    "    print(f\"Sayınız {sayi} : Sayı pozitiftir.!!\")\n",
    "else: \n",
    "    print(f\"Sayınız {sayi} : Sayı 0'dır!!\")"
   ]
  },
  {
   "cell_type": "code",
   "execution_count": null,
   "id": "e0070797",
   "metadata": {},
   "outputs": [],
   "source": [
    "# girilen sayının tek mi çift mi olduğunu yazan koşul\n",
    "\n",
    "x = int(input(\"Sayı giriniz: \"))\n",
    "\n",
    "if x % 2 == 0:\n",
    "    print(\"Sayınız çifttir!!\")\n",
    "else:\n",
    "    print(\"Sayınız tektir!!\")\n"
   ]
  },
  {
   "cell_type": "code",
   "execution_count": null,
   "id": "15abb557",
   "metadata": {},
   "outputs": [],
   "source": [
    "# Girilen nota göre harf aralığını yazan koşul (80-100 A, 60-80 B vs.)\n",
    "\n",
    "note = int(input(\"Notunuzu giriniz: \"))\n",
    "\n",
    "if note < 0:\n",
    "    print(\"Geçerli bir not giriniz!!!\")\n",
    "elif 0 <= note <= 49:\n",
    "    print(\"Sınav harf notunuz FF!!\")\n",
    "elif 50 <= note <= 64:\n",
    "    print(\"Sınav harf notunuz CB!!\")\n",
    "elif 65 <= note <= 74:\n",
    "    print(\"Sınav harf notunuz BB!!\")\n",
    "elif 75 <= note <= 84:\n",
    "    print(\"Sınav harf notunuz BA!!\")\n",
    "elif 80 <= note <= 100:\n",
    "    print(\"Sınav harf notunuz AA!!\")\n",
    "else:\n",
    "    print(\"Geçerli bir değer giriniz!!!\")"
   ]
  },
  {
   "cell_type": "code",
   "execution_count": null,
   "id": "106b769b",
   "metadata": {},
   "outputs": [],
   "source": [
    "# girilen ismin karakter sayısı 5den büyükse \"uzun bir isminiz var\" değilse ismini yazsın\n",
    "\n",
    "isim = input(\"İsminiz: \")\n",
    "\n",
    "if len(isim) > 5:\n",
    "    print(f\"{isim} - Uzun bir isminiz var.\")\n",
    "else:\n",
    "    print(f\"{isim} - Kısa bir isminiz var.\")\n"
   ]
  },
  {
   "cell_type": "code",
   "execution_count": null,
   "id": "28799d79",
   "metadata": {},
   "outputs": [],
   "source": [
    "# girilen sayının asal olup olmadığını bulan kod dizisi.  -  for ile\n",
    "\n",
    "sayi = int(input(\"Bir sayı girin: \"))\n",
    "\n",
    "if sayi > 1:\n",
    "    for i in range(2, sayi):\n",
    "        if sayi % i == 0:\n",
    "            print(\"Asal değil\")\n",
    "            break\n",
    "    else:\n",
    "        print(\"Asal\")\n",
    "else:\n",
    "    print(\"Asal değil\")\n"
   ]
  },
  {
   "cell_type": "code",
   "execution_count": null,
   "id": "af42df5c",
   "metadata": {},
   "outputs": [],
   "source": [
    "# girilen sayının asal olup olmadığını bulan kod dizisi.  -  while ile     - asal: sadece 1'e ve kendisine bölünen sayılardır.\n",
    "\n",
    "sayi = int(input(\"Bir sayı girin: \"))\n",
    "i = 2\n",
    "\n",
    "if sayi <= 1:\n",
    "    print(\"Asal değil\")\n",
    "else:\n",
    "    while i < sayi and sayi % i != 0:\n",
    "        i += 1\n",
    "    print(\"Asal\" if i == sayi else \"Asal değil\")\n",
    "\n"
   ]
  },
  {
   "cell_type": "code",
   "execution_count": null,
   "id": "5e4ee5ab",
   "metadata": {},
   "outputs": [],
   "source": [
    "# notlar = [45, 85, 75, 50] içinde 75 değerinin indisini yazdıran döngüyü kurunuz.\n",
    "\n",
    "notlar = [45, 85, 75, 50]\n",
    "\n",
    "for i in range(len(notlar)):\n",
    "    if notlar[i] == 75:\n",
    "        print(\"75'in indisi: \",i)\n"
   ]
  },
  {
   "cell_type": "code",
   "execution_count": null,
   "id": "1c68fc9d",
   "metadata": {},
   "outputs": [],
   "source": [
    "# girilen sayının faktöriyelini alan kodu yazınız.    -    for ile\n",
    "\n",
    "z = int(input(\"Sayıyı giriniz: \"))\n",
    "faktoriyel = 1\n",
    "\n",
    "for i in range(1, z + 1):\n",
    "    faktoriyel *= i\n",
    "print(f\"{z}! = {faktoriyel}\")\n"
   ]
  },
  {
   "cell_type": "code",
   "execution_count": null,
   "id": "2207cbca",
   "metadata": {},
   "outputs": [],
   "source": [
    "# girilen sayının faktöriyelini alan kodu yazınız.    -    while ile\n",
    "\n",
    "a = int(input(\"Bir sayı girin: \"))\n",
    "faktoriyel = 1\n",
    "i = 1\n",
    "\n",
    "while i <= a:\n",
    "    faktoriyel *= i\n",
    "    i += 1\n",
    "\n",
    "print(f\"{a}! = {faktoriyel}\")"
   ]
  },
  {
   "cell_type": "code",
   "execution_count": null,
   "id": "1f1e8ea1",
   "metadata": {},
   "outputs": [],
   "source": [
    "# Kullanıcıdan pozitif bir sayı bekleyen, pozitifi de gördüğü an bastıran, \n",
    "# negatif sayı girildikçe bir daha soran yapı kuralım.(for ile)\n",
    "\n",
    "while True:\n",
    "    b = int(input(\"Sayı giriniz: \"))\n",
    "\n",
    "    if b > 0:\n",
    "        print(\"Pozitif değer!!\")\n",
    "        break"
   ]
  },
  {
   "cell_type": "code",
   "execution_count": null,
   "id": "28f535a9",
   "metadata": {},
   "outputs": [],
   "source": [
    "# fonksiyon ile girilen sayının asal olup olmadığını bulan kod dizisini yazınız.     -    for ile\n",
    "\n",
    "\n",
    "def asal_for():\n",
    "    sayi = int(input(\"Bir sayı girin: \"))\n",
    "\n",
    "    if sayi > 1:\n",
    "        for i in range(2, sayi):\n",
    "            if sayi % i == 0:\n",
    "                print(\"Asal değil\")\n",
    "                break\n",
    "        else:\n",
    "            print(\"Asal\")\n",
    "    else:\n",
    "        print(\"Asal değil\")\n",
    "        \n",
    "asal_for()"
   ]
  },
  {
   "cell_type": "code",
   "execution_count": null,
   "id": "ab90ef2d",
   "metadata": {},
   "outputs": [],
   "source": [
    "# fonksiyon ile girilen sayının asal olup olmadığını bulan kod dizisini yazınız.     -    while ile\n",
    "\n",
    "def asal_while():\n",
    "    sayi = int(input(\"Bir sayı girin: \"))\n",
    "    i = 2\n",
    "\n",
    "    if sayi <= 1:\n",
    "        print(\"Asal değil\")\n",
    "    else:\n",
    "        while i < sayi and sayi % i != 0:\n",
    "            i += 1\n",
    "        print(\"Asal\" if i == sayi else \"Asal değil\")\n",
    "\n",
    "asal_while()"
   ]
  },
  {
   "cell_type": "code",
   "execution_count": null,
   "id": "603aadf9",
   "metadata": {},
   "outputs": [],
   "source": [
    "# fonksiyon ile girilen sayının faktöriyelini alalım            -      for ile\n",
    "\n",
    "def faktoriyel_al():\n",
    "    sayi1 = int(input(\"Sayıyı giriniz: \"))\n",
    "    faktoriyel = 1\n",
    "\n",
    "    for i in range(1, sayi1 + 1):\n",
    "        faktoriyel *= i\n",
    "    print(f\"{sayi1}! = {faktoriyel}\")\n",
    "    \n",
    "faktoriyel_al()"
   ]
  },
  {
   "cell_type": "code",
   "execution_count": null,
   "id": "3d3c80ad",
   "metadata": {},
   "outputs": [],
   "source": [
    "# fonksiyon ile girilen sayının faktöriyelini alalım            -      while ile\n",
    "\n",
    "def faktoriyel_while():\n",
    "    sayi2 = int(input(\"Bir sayı girin: \"))\n",
    "    faktoriyel = 1\n",
    "    i = 1\n",
    "\n",
    "    while i <= sayi2:\n",
    "        faktoriyel *= i\n",
    "        i += 1\n",
    "\n",
    "    print(f\"{sayi2}! = {faktoriyel}\")\n",
    "\n",
    "faktoriyel_while()"
   ]
  }
 ],
 "metadata": {
  "kernelspec": {
   "display_name": "Python 3 (ipykernel)",
   "language": "python",
   "name": "python3"
  },
  "language_info": {
   "codemirror_mode": {
    "name": "ipython",
    "version": 3
   },
   "file_extension": ".py",
   "mimetype": "text/x-python",
   "name": "python",
   "nbconvert_exporter": "python",
   "pygments_lexer": "ipython3",
   "version": "3.11.3"
  }
 },
 "nbformat": 4,
 "nbformat_minor": 5
}
