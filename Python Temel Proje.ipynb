{
 "cells": [
  {
   "cell_type": "markdown",
   "id": "cd09e416",
   "metadata": {},
   "source": [
    "**Proje**\n",
    "\n",
    "1- Bir listeyi düzleştiren (flatten) fonksiyon yazın. Elemanları birden çok katmanlı listelerden ([[3],2] gibi) oluşabileceği gibi, non-scalar verilerden de oluşabilir. Örnek olarak:\n",
    "\n",
    "input: [[1,'a',['cat'],2],[[[3]],'dog'],4,5]\n",
    "\n",
    "output: [1,'a','cat',2,3,'dog',4,5]\n",
    "\n",
    "2- Verilen listenin içindeki elemanları tersine döndüren bir fonksiyon yazın. Eğer listenin içindeki elemanlar da liste içeriyorsa onların elemanlarını da tersine döndürün. Örnek olarak:\n",
    "\n",
    "input: [[1, 2], [3, 4], [5, 6, 7]]\n",
    "\n",
    "output: [[[7, 6, 5], [4, 3], [2, 1]]"
   ]
  },
  {
   "cell_type": "markdown",
   "id": "fcdb72d8",
   "metadata": {},
   "source": [
    "### 1. Proje"
   ]
  },
  {
   "cell_type": "code",
   "execution_count": 1,
   "id": "6f144bba",
   "metadata": {},
   "outputs": [],
   "source": [
    "def flatten(lst):\n",
    "    flat_list = []  # Sonuçları burada toplayacağız\n",
    "\n",
    "    for item in lst:\n",
    "        # Eğer eleman bir listeyse\n",
    "        if isinstance(item, list):\n",
    "            # O listeyi düzleştirip mevcut listeye ekle\n",
    "            flat_list.extend(flatten(item))\n",
    "        else:\n",
    "            # Liste değilse doğrudan ekle\n",
    "            flat_list.append(item)\n",
    "    \n",
    "    return flat_list"
   ]
  },
  {
   "cell_type": "code",
   "execution_count": 2,
   "id": "d32a67b4",
   "metadata": {},
   "outputs": [
    {
     "name": "stdout",
     "output_type": "stream",
     "text": [
      "[1, 'a', 'cat', 2, 3, 'dog', 4, 5]\n"
     ]
    }
   ],
   "source": [
    "# Örnek kullanım\n",
    "\n",
    "input_list = [[1, 'a', ['cat'], 2], [[[3]], 'dog'], 4, 5]    # örnek liste\n",
    "output = flatten(input_list)                                 # çıktı ve fonksiyonun uygulanması\n",
    "print(output)                                                # çıktıyı yazdırıyoruz\n"
   ]
  },
  {
   "cell_type": "markdown",
   "id": "200d5e1b",
   "metadata": {},
   "source": [
    "### 2. Proje"
   ]
  },
  {
   "cell_type": "code",
   "execution_count": 3,
   "id": "dcad93c6",
   "metadata": {},
   "outputs": [],
   "source": [
    "def reverse_nested_list(lst):\n",
    "    \n",
    "    # Hem dıştaki listeyi hem içteki listeleri tersine çevir\n",
    "    reversed_list = [sublist[::-1] if isinstance(sublist, list) else sublist for sublist in lst[::-1]]\n",
    "    return [reversed_list]"
   ]
  },
  {
   "cell_type": "code",
   "execution_count": 4,
   "id": "7b8b8dbd",
   "metadata": {},
   "outputs": [
    {
     "name": "stdout",
     "output_type": "stream",
     "text": [
      "[[[7, 6, 5], [4, 3], [2, 1]]]\n"
     ]
    }
   ],
   "source": [
    "input_list1 = [[1, 2], [3, 4], [5, 6, 7]]            # örnek liste\n",
    "output1 = reverse_nested_list(input_list1)                # çıktı ve fonksiyonun uygulanması\n",
    "print(output1)                                       # çıktıyı yazdırıyoruz"
   ]
  }
 ],
 "metadata": {
  "kernelspec": {
   "display_name": "Python 3 (ipykernel)",
   "language": "python",
   "name": "python3"
  },
  "language_info": {
   "codemirror_mode": {
    "name": "ipython",
    "version": 3
   },
   "file_extension": ".py",
   "mimetype": "text/x-python",
   "name": "python",
   "nbconvert_exporter": "python",
   "pygments_lexer": "ipython3",
   "version": "3.11.3"
  }
 },
 "nbformat": 4,
 "nbformat_minor": 5
}
